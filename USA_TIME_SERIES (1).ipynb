{
 "cells": [
  {
   "cell_type": "code",
   "execution_count": 1,
   "metadata": {},
   "outputs": [],
   "source": [
    "import numpy as np\n",
    "import pandas as pd\n",
    "import matplotlib.pyplot as plt\n",
    "from datetime import datetime"
   ]
  },
  {
   "cell_type": "code",
   "execution_count": 2,
   "metadata": {},
   "outputs": [],
   "source": [
    "df=pd.read_csv('C:/Users/Sumit/Downloads/USA_GDP_TIME_SERIES.csv')"
   ]
  },
  {
   "cell_type": "code",
   "execution_count": 3,
   "metadata": {},
   "outputs": [
    {
     "name": "stdout",
     "output_type": "stream",
     "text": [
      "<class 'pandas.core.frame.DataFrame'>\n",
      "RangeIndex: 63 entries, 0 to 62\n",
      "Data columns (total 2 columns):\n",
      " #   Column                              Non-Null Count  Dtype  \n",
      "---  ------                              --------------  -----  \n",
      " 0   YEARS                               63 non-null     int64  \n",
      " 1   GDP per capita (constant 2015 US$)  63 non-null     float64\n",
      "dtypes: float64(1), int64(1)\n",
      "memory usage: 1.1 KB\n"
     ]
    }
   ],
   "source": [
    "df.info()"
   ]
  },
  {
   "cell_type": "code",
   "execution_count": 4,
   "metadata": {},
   "outputs": [
    {
     "data": {
      "text/plain": [
       "pandas.core.frame.DataFrame"
      ]
     },
     "execution_count": 4,
     "metadata": {},
     "output_type": "execute_result"
    }
   ],
   "source": [
    "type(df)"
   ]
  },
  {
   "cell_type": "code",
   "execution_count": 5,
   "metadata": {},
   "outputs": [],
   "source": [
    "df['log_GDP']=np.log(df['GDP per capita (constant 2015 US$)'])"
   ]
  },
  {
   "cell_type": "code",
   "execution_count": 6,
   "metadata": {},
   "outputs": [
    {
     "data": {
      "text/html": [
       "<div>\n",
       "<style scoped>\n",
       "    .dataframe tbody tr th:only-of-type {\n",
       "        vertical-align: middle;\n",
       "    }\n",
       "\n",
       "    .dataframe tbody tr th {\n",
       "        vertical-align: top;\n",
       "    }\n",
       "\n",
       "    .dataframe thead th {\n",
       "        text-align: right;\n",
       "    }\n",
       "</style>\n",
       "<table border=\"1\" class=\"dataframe\">\n",
       "  <thead>\n",
       "    <tr style=\"text-align: right;\">\n",
       "      <th></th>\n",
       "      <th>YEARS</th>\n",
       "      <th>GDP per capita (constant 2015 US$)</th>\n",
       "      <th>log_GDP</th>\n",
       "    </tr>\n",
       "  </thead>\n",
       "  <tbody>\n",
       "    <tr>\n",
       "      <th>count</th>\n",
       "      <td>63.000000</td>\n",
       "      <td>63.000000</td>\n",
       "      <td>63.000000</td>\n",
       "    </tr>\n",
       "    <tr>\n",
       "      <th>mean</th>\n",
       "      <td>1991.000000</td>\n",
       "      <td>40172.301052</td>\n",
       "      <td>10.544309</td>\n",
       "    </tr>\n",
       "    <tr>\n",
       "      <th>std</th>\n",
       "      <td>18.330303</td>\n",
       "      <td>13070.714607</td>\n",
       "      <td>0.347295</td>\n",
       "    </tr>\n",
       "    <tr>\n",
       "      <th>min</th>\n",
       "      <td>1960.000000</td>\n",
       "      <td>19135.268180</td>\n",
       "      <td>9.859288</td>\n",
       "    </tr>\n",
       "    <tr>\n",
       "      <th>25%</th>\n",
       "      <td>1975.500000</td>\n",
       "      <td>28348.802190</td>\n",
       "      <td>10.252306</td>\n",
       "    </tr>\n",
       "    <tr>\n",
       "      <th>50%</th>\n",
       "      <td>1991.000000</td>\n",
       "      <td>39303.489010</td>\n",
       "      <td>10.579069</td>\n",
       "    </tr>\n",
       "    <tr>\n",
       "      <th>75%</th>\n",
       "      <td>2006.500000</td>\n",
       "      <td>52876.597795</td>\n",
       "      <td>10.875715</td>\n",
       "    </tr>\n",
       "    <tr>\n",
       "      <th>max</th>\n",
       "      <td>2022.000000</td>\n",
       "      <td>62866.714390</td>\n",
       "      <td>11.048772</td>\n",
       "    </tr>\n",
       "  </tbody>\n",
       "</table>\n",
       "</div>"
      ],
      "text/plain": [
       "             YEARS  GDP per capita (constant 2015 US$)    log_GDP\n",
       "count    63.000000                           63.000000  63.000000\n",
       "mean   1991.000000                        40172.301052  10.544309\n",
       "std      18.330303                        13070.714607   0.347295\n",
       "min    1960.000000                        19135.268180   9.859288\n",
       "25%    1975.500000                        28348.802190  10.252306\n",
       "50%    1991.000000                        39303.489010  10.579069\n",
       "75%    2006.500000                        52876.597795  10.875715\n",
       "max    2022.000000                        62866.714390  11.048772"
      ]
     },
     "execution_count": 6,
     "metadata": {},
     "output_type": "execute_result"
    }
   ],
   "source": [
    "df.describe()"
   ]
  },
  {
   "cell_type": "code",
   "execution_count": null,
   "metadata": {},
   "outputs": [],
   "source": []
  },
  {
   "cell_type": "markdown",
   "metadata": {},
   "source": [
    "# PLOTTING THE TIME SERIES DATA OF US GDP"
   ]
  },
  {
   "cell_type": "code",
   "execution_count": 7,
   "metadata": {},
   "outputs": [
    {
     "data": {
      "image/png": "[encoded data removed]",
      "text/plain": [
       "<Figure size 720x432 with 1 Axes>"
      ]
     },
     "metadata": {
      "needs_background": "light"
     },
     "output_type": "display_data"
    }
   ],
   "source": [
    "# Create the plot\n",
    "plt.figure(figsize=(10, 6))  # Adjust the figure size as needed\n",
    "\n",
    "# Plot the data points as a line plot\n",
    "plt.plot(df.YEARS,df.log_GDP, marker='o', linestyle='-', color='b', label='LOG_GDP per capita')\n",
    "\n",
    "# Add labels and title\n",
    "plt.xlabel('Years')\n",
    "plt.ylabel('LOG GDP per capita (constant 2015 US$)')\n",
    "plt.title('LOG GDP per capita over the years')\n",
    "plt.grid(True)  # Add grid lines for better readability\n",
    "plt.legend()  # Show the legend\n",
    "\n",
    "# Optionally, adjust the plot limits if needed\n",
    "# plt.xlim(1960, 2022)\n",
    "# plt.ylim(0, max(gdp_per_capita) * 1.1)\n",
    "\n",
    "# Show the plot\n",
    "plt.tight_layout()  # Ensure all elements are visible\n",
    "plt.show()\n",
    "\n"
   ]
  },
  {
   "cell_type": "markdown",
   "metadata": {},
   "source": [
    "## Filter the series using Hodrick-Prescott filter (HP filter)"
   ]
  },
  {
   "cell_type": "code",
   "execution_count": 8,
   "metadata": {},
   "outputs": [
    {
     "name": "stderr",
     "output_type": "stream",
     "text": [
      "C:\\Users\\Sumit\\anaconda3\\lib\\site-packages\\ipykernel_launcher.py:5: SettingWithCopyWarning: \n",
      "A value is trying to be set on a copy of a slice from a DataFrame.\n",
      "Try using .loc[row_indexer,col_indexer] = value instead\n",
      "\n",
      "See the caveats in the documentation: https://pandas.pydata.org/pandas-docs/stable/user_guide/indexing.html#returning-a-view-versus-a-copy\n",
      "  \"\"\"\n"
     ]
    },
    {
     "data": {
      "text/html": [
       "<div>\n",
       "<style scoped>\n",
       "    .dataframe tbody tr th:only-of-type {\n",
       "        vertical-align: middle;\n",
       "    }\n",
       "\n",
       "    .dataframe tbody tr th {\n",
       "        vertical-align: top;\n",
       "    }\n",
       "\n",
       "    .dataframe thead th {\n",
       "        text-align: right;\n",
       "    }\n",
       "</style>\n",
       "<table border=\"1\" class=\"dataframe\">\n",
       "  <thead>\n",
       "    <tr style=\"text-align: right;\">\n",
       "      <th></th>\n",
       "      <th>log_GDP</th>\n",
       "      <th>YEARS</th>\n",
       "      <th>epsilon_t</th>\n",
       "      <th>trend_t</th>\n",
       "    </tr>\n",
       "  </thead>\n",
       "  <tbody>\n",
       "    <tr>\n",
       "      <th>0</th>\n",
       "      <td>9.859288</td>\n",
       "      <td>1960</td>\n",
       "      <td>0.013764</td>\n",
       "      <td>9.845525</td>\n",
       "    </tr>\n",
       "    <tr>\n",
       "      <th>1</th>\n",
       "      <td>9.865451</td>\n",
       "      <td>1961</td>\n",
       "      <td>-0.012229</td>\n",
       "      <td>9.877680</td>\n",
       "    </tr>\n",
       "    <tr>\n",
       "      <th>2</th>\n",
       "      <td>9.909282</td>\n",
       "      <td>1962</td>\n",
       "      <td>-0.002755</td>\n",
       "      <td>9.912037</td>\n",
       "    </tr>\n",
       "    <tr>\n",
       "      <th>3</th>\n",
       "      <td>9.937950</td>\n",
       "      <td>1963</td>\n",
       "      <td>-0.010892</td>\n",
       "      <td>9.948842</td>\n",
       "    </tr>\n",
       "    <tr>\n",
       "      <th>4</th>\n",
       "      <td>9.980440</td>\n",
       "      <td>1964</td>\n",
       "      <td>-0.007459</td>\n",
       "      <td>9.987899</td>\n",
       "    </tr>\n",
       "    <tr>\n",
       "      <th>...</th>\n",
       "      <td>...</td>\n",
       "      <td>...</td>\n",
       "      <td>...</td>\n",
       "      <td>...</td>\n",
       "    </tr>\n",
       "    <tr>\n",
       "      <th>58</th>\n",
       "      <td>10.995535</td>\n",
       "      <td>2018</td>\n",
       "      <td>0.009652</td>\n",
       "      <td>10.985883</td>\n",
       "    </tr>\n",
       "    <tr>\n",
       "      <th>59</th>\n",
       "      <td>11.013666</td>\n",
       "      <td>2019</td>\n",
       "      <td>0.015275</td>\n",
       "      <td>10.998391</td>\n",
       "    </tr>\n",
       "    <tr>\n",
       "      <th>60</th>\n",
       "      <td>10.975954</td>\n",
       "      <td>2020</td>\n",
       "      <td>-0.034596</td>\n",
       "      <td>11.010551</td>\n",
       "    </tr>\n",
       "    <tr>\n",
       "      <th>61</th>\n",
       "      <td>11.032141</td>\n",
       "      <td>2021</td>\n",
       "      <td>0.006309</td>\n",
       "      <td>11.025833</td>\n",
       "    </tr>\n",
       "    <tr>\n",
       "      <th>62</th>\n",
       "      <td>11.048772</td>\n",
       "      <td>2022</td>\n",
       "      <td>0.006601</td>\n",
       "      <td>11.042171</td>\n",
       "    </tr>\n",
       "  </tbody>\n",
       "</table>\n",
       "<p>63 rows × 4 columns</p>\n",
       "</div>"
      ],
      "text/plain": [
       "      log_GDP  YEARS  epsilon_t    trend_t\n",
       "0    9.859288   1960   0.013764   9.845525\n",
       "1    9.865451   1961  -0.012229   9.877680\n",
       "2    9.909282   1962  -0.002755   9.912037\n",
       "3    9.937950   1963  -0.010892   9.948842\n",
       "4    9.980440   1964  -0.007459   9.987899\n",
       "..        ...    ...        ...        ...\n",
       "58  10.995535   2018   0.009652  10.985883\n",
       "59  11.013666   2019   0.015275  10.998391\n",
       "60  10.975954   2020  -0.034596  11.010551\n",
       "61  11.032141   2021   0.006309  11.025833\n",
       "62  11.048772   2022   0.006601  11.042171\n",
       "\n",
       "[63 rows x 4 columns]"
      ]
     },
     "execution_count": 8,
     "metadata": {},
     "output_type": "execute_result"
    }
   ],
   "source": [
    "from statsmodels.tsa.filters.hp_filter import hpfilter\n",
    "log_gdp_cycle,log_gdp_trend = hpfilter(df['log_GDP'], lamb=6.25) #Use 6.25 as the smoothing parameter since this is yearly data\n",
    "\n",
    "gdp_segr = df[['log_GDP']]\n",
    "gdp_segr['YEARS'] = df['YEARS']\n",
    "gdp_segr['epsilon_t']= log_gdp_cycle\n",
    "gdp_segr['trend_t'] = log_gdp_trend\n",
    "gdp_segr"
   ]
  },
  {
   "cell_type": "markdown",
   "metadata": {},
   "source": [
    "# PLOTTING THE SERIES OF RESIDUALS"
   ]
  },
  {
   "cell_type": "code",
   "execution_count": 9,
   "metadata": {},
   "outputs": [
    {
     "data": {
      "image/png": "[encoded data removed]",
      "text/plain": [
       "<Figure size 864x432 with 1 Axes>"
      ]
     },
     "metadata": {
      "needs_background": "light"
     },
     "output_type": "display_data"
    }
   ],
   "source": [
    "# Create the plot\n",
    "plt.figure(figsize=(12, 6))  # Adjust the figure size as needed\n",
    "\n",
    "# Plot the data points as a line plot\n",
    "plt.plot(gdp_segr.YEARS,gdp_segr.epsilon_t, marker='o', linestyle='-', color='b', label='Residuals {epsilon_t}')\n",
    "\n",
    "# Add labels and title\n",
    "plt.xlabel('Years')\n",
    "plt.ylabel('Residuals/Cyclic component {epsilon_t} (constant 2015 US$)')\n",
    "plt.title('The time series of residuals {epsilon_t}')\n",
    "plt.grid(True)  # Add grid lines for better readability\n",
    "plt.legend()  # Show the legend\n",
    "\n",
    "# Show the plot\n",
    "plt.tight_layout()  # Ensure all elements are visible\n",
    "plt.show()"
   ]
  },
  {
   "cell_type": "markdown",
   "metadata": {},
   "source": [
    "## Plotting empirical autocorrelation function (ACF) and partial autocorrelation function (PACF) of {epsilon_t}."
   ]
  },
  {
   "cell_type": "code",
   "execution_count": 10,
   "metadata": {},
   "outputs": [
    {
     "name": "stderr",
     "output_type": "stream",
     "text": [
      "C:\\Users\\Sumit\\anaconda3\\lib\\site-packages\\statsmodels\\regression\\linear_model.py:1406: RuntimeWarning: invalid value encountered in sqrt\n",
      "  return rho, np.sqrt(sigmasq)\n",
      "C:\\Users\\Sumit\\anaconda3\\lib\\site-packages\\ipykernel_launcher.py:9: UserWarning: In Matplotlib 3.3 individual lines on a stem plot will be added as a LineCollection instead of individual lines. This significantly improves the performance of a stem plot. To remove this warning and switch to the new behaviour, set the \"use_line_collection\" keyword argument to True.\n",
      "  if __name__ == '__main__':\n"
     ]
    },
    {
     "data": {
      "image/png": "[encoded data removed]",
      "text/plain": [
       "<Figure size 864x432 with 1 Axes>"
      ]
     },
     "metadata": {
      "needs_background": "light"
     },
     "output_type": "display_data"
    },
    {
     "name": "stderr",
     "output_type": "stream",
     "text": [
      "C:\\Users\\Sumit\\anaconda3\\lib\\site-packages\\ipykernel_launcher.py:19: UserWarning: In Matplotlib 3.3 individual lines on a stem plot will be added as a LineCollection instead of individual lines. This significantly improves the performance of a stem plot. To remove this warning and switch to the new behaviour, set the \"use_line_collection\" keyword argument to True.\n"
     ]
    },
    {
     "data": {
      "image/png": "[encoded data removed]",
      "text/plain": [
       "<Figure size 864x432 with 1 Axes>"
      ]
     },
     "metadata": {
      "needs_background": "light"
     },
     "output_type": "display_data"
    }
   ],
   "source": [
    "import statsmodels.api as sm\n",
    "\n",
    "# Calculate ACF and PACF\n",
    "acf_values, confint_acf = sm.tsa.stattools.acf(gdp_segr['epsilon_t'], nlags=30, fft=True, alpha=0.05)\n",
    "pacf_values, confint_pacf = sm.tsa.stattools.pacf(gdp_segr['epsilon_t'], nlags=30, alpha=0.05)\n",
    "\n",
    "# Plot ACF\n",
    "plt.figure(figsize=(12, 6))\n",
    "plt.stem(acf_values, markerfmt=' ')\n",
    "plt.axhline(0, color='gray', linestyle='dashed', linewidth=0.5)\n",
    "plt.xlabel('Lag')\n",
    "plt.ylabel('Autocorrelation')\n",
    "plt.title('Autocorrelation Function (ACF)')\n",
    "plt.grid(True)\n",
    "plt.show()\n",
    "\n",
    "# Plot PACF\n",
    "plt.figure(figsize=(12, 6))\n",
    "plt.stem(pacf_values, markerfmt=' ')\n",
    "plt.axhline(0, color='gray', linestyle='dashed', linewidth=0.5)\n",
    "plt.xlabel('Lag')\n",
    "plt.ylabel('Partial Autocorrelation')\n",
    "plt.title('Partial Autocorrelation Function (PACF)')\n",
    "plt.grid(True)\n",
    "plt.show()"
   ]
  },
  {
   "cell_type": "code",
   "execution_count": 11,
   "metadata": {},
   "outputs": [
    {
     "name": "stderr",
     "output_type": "stream",
     "text": [
      "C:\\Users\\Sumit\\anaconda3\\lib\\site-packages\\statsmodels\\base\\model.py:548: HessianInversionWarning: Inverting hessian failed, no bse or cov_params available\n",
      "  'available', HessianInversionWarning)\n",
      "C:\\Users\\Sumit\\anaconda3\\lib\\site-packages\\statsmodels\\base\\model.py:568: ConvergenceWarning: Maximum Likelihood optimization failed to converge. Check mle_retvals\n",
      "  \"Check mle_retvals\", ConvergenceWarning)\n",
      "C:\\Users\\Sumit\\anaconda3\\lib\\site-packages\\statsmodels\\tsa\\tsatools.py:689: RuntimeWarning: overflow encountered in exp\n",
      "  newparams = ((1-np.exp(-params))/(1+np.exp(-params))).copy()\n",
      "C:\\Users\\Sumit\\anaconda3\\lib\\site-packages\\statsmodels\\tsa\\tsatools.py:689: RuntimeWarning: invalid value encountered in true_divide\n",
      "  newparams = ((1-np.exp(-params))/(1+np.exp(-params))).copy()\n",
      "C:\\Users\\Sumit\\anaconda3\\lib\\site-packages\\statsmodels\\tsa\\tsatools.py:690: RuntimeWarning: overflow encountered in exp\n",
      "  tmp = ((1-np.exp(-params))/(1+np.exp(-params))).copy()\n",
      "C:\\Users\\Sumit\\anaconda3\\lib\\site-packages\\statsmodels\\tsa\\tsatools.py:690: RuntimeWarning: invalid value encountered in true_divide\n",
      "  tmp = ((1-np.exp(-params))/(1+np.exp(-params))).copy()\n",
      "C:\\Users\\Sumit\\anaconda3\\lib\\site-packages\\statsmodels\\tsa\\tsatools.py:716: RuntimeWarning: divide by zero encountered in true_divide\n",
      "  invmacoefs = -np.log((1-macoefs)/(1+macoefs))\n",
      "C:\\Users\\Sumit\\anaconda3\\lib\\site-packages\\statsmodels\\tsa\\kalmanf\\kalmanfilter.py:224: RuntimeWarning: invalid value encountered in log\n",
      "  Z_mat.astype(complex), R_mat, T_mat)\n",
      "C:\\Users\\Sumit\\anaconda3\\lib\\site-packages\\statsmodels\\tsa\\kalmanf\\kalmanfilter.py:224: RuntimeWarning: invalid value encountered in true_divide\n",
      "  Z_mat.astype(complex), R_mat, T_mat)\n",
      "C:\\Users\\Sumit\\anaconda3\\lib\\site-packages\\statsmodels\\tools\\numdiff.py:243: RuntimeWarning: invalid value encountered in add\n",
      "  **kwargs)).imag/2./hess[i, j]\n",
      "C:\\Users\\Sumit\\anaconda3\\lib\\site-packages\\statsmodels\\tools\\numdiff.py:243: RuntimeWarning: invalid value encountered in multiply\n",
      "  **kwargs)).imag/2./hess[i, j]\n",
      "C:\\Users\\Sumit\\anaconda3\\lib\\site-packages\\statsmodels\\base\\model.py:548: HessianInversionWarning: Inverting hessian failed, no bse or cov_params available\n",
      "  'available', HessianInversionWarning)\n",
      "C:\\Users\\Sumit\\anaconda3\\lib\\site-packages\\statsmodels\\base\\model.py:568: ConvergenceWarning: Maximum Likelihood optimization failed to converge. Check mle_retvals\n",
      "  \"Check mle_retvals\", ConvergenceWarning)\n",
      "C:\\Users\\Sumit\\anaconda3\\lib\\site-packages\\statsmodels\\base\\model.py:548: HessianInversionWarning: Inverting hessian failed, no bse or cov_params available\n",
      "  'available', HessianInversionWarning)\n",
      "C:\\Users\\Sumit\\anaconda3\\lib\\site-packages\\statsmodels\\base\\model.py:568: ConvergenceWarning: Maximum Likelihood optimization failed to converge. Check mle_retvals\n",
      "  \"Check mle_retvals\", ConvergenceWarning)\n",
      "C:\\Users\\Sumit\\anaconda3\\lib\\site-packages\\statsmodels\\base\\model.py:548: HessianInversionWarning: Inverting hessian failed, no bse or cov_params available\n",
      "  'available', HessianInversionWarning)\n",
      "C:\\Users\\Sumit\\anaconda3\\lib\\site-packages\\statsmodels\\base\\model.py:548: HessianInversionWarning: Inverting hessian failed, no bse or cov_params available\n",
      "  'available', HessianInversionWarning)\n",
      "C:\\Users\\Sumit\\anaconda3\\lib\\site-packages\\statsmodels\\base\\model.py:548: HessianInversionWarning: Inverting hessian failed, no bse or cov_params available\n",
      "  'available', HessianInversionWarning)\n",
      "C:\\Users\\Sumit\\anaconda3\\lib\\site-packages\\statsmodels\\base\\model.py:548: HessianInversionWarning: Inverting hessian failed, no bse or cov_params available\n",
      "  'available', HessianInversionWarning)\n",
      "C:\\Users\\Sumit\\anaconda3\\lib\\site-packages\\statsmodels\\base\\model.py:548: HessianInversionWarning: Inverting hessian failed, no bse or cov_params available\n",
      "  'available', HessianInversionWarning)\n",
      "C:\\Users\\Sumit\\anaconda3\\lib\\site-packages\\statsmodels\\base\\model.py:548: HessianInversionWarning: Inverting hessian failed, no bse or cov_params available\n",
      "  'available', HessianInversionWarning)\n",
      "C:\\Users\\Sumit\\anaconda3\\lib\\site-packages\\statsmodels\\base\\model.py:568: ConvergenceWarning: Maximum Likelihood optimization failed to converge. Check mle_retvals\n",
      "  \"Check mle_retvals\", ConvergenceWarning)\n",
      "C:\\Users\\Sumit\\anaconda3\\lib\\site-packages\\statsmodels\\base\\model.py:548: HessianInversionWarning: Inverting hessian failed, no bse or cov_params available\n",
      "  'available', HessianInversionWarning)\n",
      "C:\\Users\\Sumit\\anaconda3\\lib\\site-packages\\statsmodels\\base\\model.py:548: HessianInversionWarning: Inverting hessian failed, no bse or cov_params available\n",
      "  'available', HessianInversionWarning)\n",
      "C:\\Users\\Sumit\\anaconda3\\lib\\site-packages\\statsmodels\\base\\model.py:548: HessianInversionWarning: Inverting hessian failed, no bse or cov_params available\n",
      "  'available', HessianInversionWarning)\n",
      "C:\\Users\\Sumit\\anaconda3\\lib\\site-packages\\statsmodels\\base\\model.py:568: ConvergenceWarning: Maximum Likelihood optimization failed to converge. Check mle_retvals\n",
      "  \"Check mle_retvals\", ConvergenceWarning)\n",
      "C:\\Users\\Sumit\\anaconda3\\lib\\site-packages\\statsmodels\\base\\model.py:548: HessianInversionWarning: Inverting hessian failed, no bse or cov_params available\n",
      "  'available', HessianInversionWarning)\n",
      "C:\\Users\\Sumit\\anaconda3\\lib\\site-packages\\statsmodels\\base\\model.py:568: ConvergenceWarning: Maximum Likelihood optimization failed to converge. Check mle_retvals\n",
      "  \"Check mle_retvals\", ConvergenceWarning)\n",
      "C:\\Users\\Sumit\\anaconda3\\lib\\site-packages\\statsmodels\\base\\model.py:548: HessianInversionWarning: Inverting hessian failed, no bse or cov_params available\n",
      "  'available', HessianInversionWarning)\n",
      "C:\\Users\\Sumit\\anaconda3\\lib\\site-packages\\statsmodels\\base\\model.py:548: HessianInversionWarning: Inverting hessian failed, no bse or cov_params available\n",
      "  'available', HessianInversionWarning)\n",
      "C:\\Users\\Sumit\\anaconda3\\lib\\site-packages\\statsmodels\\base\\model.py:548: HessianInversionWarning: Inverting hessian failed, no bse or cov_params available\n",
      "  'available', HessianInversionWarning)\n"
     ]
    },
    {
     "name": "stdout",
     "output_type": "stream",
     "text": [
      "            0           1           2           3           4           5   6  \\\n",
      "0 -359.809105 -363.200853 -380.255379 -382.428368 -381.661308         NaN NaN   \n",
      "1 -360.539828 -361.593892         NaN         NaN         NaN         NaN NaN   \n",
      "2 -367.835276 -389.840413         NaN         NaN         NaN         NaN NaN   \n",
      "3 -370.771766 -388.848020 -387.163229         NaN         NaN         NaN NaN   \n",
      "4 -372.482005 -388.181872 -387.093091         NaN         NaN         NaN NaN   \n",
      "5 -372.471438 -387.147266 -385.707813         NaN         NaN         NaN NaN   \n",
      "6 -373.489683 -387.017626 -385.512399 -385.772401 -384.095782         NaN NaN   \n",
      "7 -372.294992 -385.947661 -384.456392 -385.332808 -383.073177         NaN NaN   \n",
      "8 -373.105336 -387.157342 -384.289810 -381.291428 -381.744214 -383.969422 NaN   \n",
      "9 -379.308940 -386.981140 -385.179636 -385.299380         NaN         NaN NaN   \n",
      "\n",
      "            7           8           9  \n",
      "0 -391.000495 -387.116198 -389.836474  \n",
      "1         NaN         NaN         NaN  \n",
      "2         NaN         NaN         NaN  \n",
      "3         NaN         NaN         NaN  \n",
      "4         NaN         NaN         NaN  \n",
      "5         NaN         NaN         NaN  \n",
      "6         NaN         NaN         NaN  \n",
      "7         NaN         NaN         NaN  \n",
      "8         NaN         NaN         NaN  \n",
      "9         NaN         NaN         NaN  \n"
     ]
    }
   ],
   "source": [
    "\n",
    "# Initialize AIC matrix\n",
    "p_values = range(10)\n",
    "q_values = range(10)\n",
    "aic_matrix = [[0 for _ in range(10)] for _ in range(10)]\n",
    "\n",
    "# Iterate through different combinations of p and q\n",
    "for p in p_values:\n",
    "    for q in q_values:\n",
    "        try:\n",
    "            # Estimate ARMA(p,q) model\n",
    "            arma_model = sm.tsa.ARMA(gdp_segr['epsilon_t'], order=(p, q))\n",
    "            arma_result = arma_model.fit()\n",
    "\n",
    "            # Compute AIC\n",
    "            aic_value = arma_result.aic\n",
    "\n",
    "            # Store AIC in the matrix\n",
    "            aic_matrix[p][q] = aic_value\n",
    "        except:\n",
    "            # In case of convergence issues, store AIC as None\n",
    "            aic_matrix[p][q] = None\n",
    "\n",
    "# Convert the matrix to a DataFrame for better visualization\n",
    "aic_df = pd.DataFrame(aic_matrix, index=p_values, columns=q_values)\n",
    "print(aic_df)"
   ]
  },
  {
   "cell_type": "code",
   "execution_count": 12,
   "metadata": {},
   "outputs": [
    {
     "data": {
      "text/plain": [
       "-389.84041261308096"
      ]
     },
     "execution_count": 12,
     "metadata": {},
     "output_type": "execute_result"
    }
   ],
   "source": [
    "aic_df[1][2]"
   ]
  },
  {
   "cell_type": "code",
   "execution_count": 13,
   "metadata": {},
   "outputs": [
    {
     "name": "stdout",
     "output_type": "stream",
     "text": [
      "AIC: -389.84041261308096\n",
      "BIC: -379.1247389811233\n",
      "HQIC: -385.62588579699434\n"
     ]
    }
   ],
   "source": [
    "# Specify the order (p, q)\n",
    "p, q = 2, 1\n",
    "\n",
    "# Fit ARMA model\n",
    "arma_model = sm.tsa.ARMA(gdp_segr['epsilon_t'], order=(p, q))\n",
    "arma_result = arma_model.fit()\n",
    "\n",
    "# Calculate AIC, BIC, and HQIC\n",
    "aic = arma_result.aic\n",
    "bic = arma_result.bic\n",
    "hqic = arma_result.hqic\n",
    "\n",
    "print(\"AIC:\", aic)\n",
    "print(\"BIC:\", bic)\n",
    "print(\"HQIC:\", hqic)"
   ]
  },
  {
   "cell_type": "code",
   "execution_count": 14,
   "metadata": {},
   "outputs": [
    {
     "data": {
      "text/plain": [
       "<Figure size 1728x864 with 0 Axes>"
      ]
     },
     "metadata": {},
     "output_type": "display_data"
    },
    {
     "data": {
      "image/png": "[encoded data removed]",
      "text/plain": [
       "<Figure size 432x288 with 1 Axes>"
      ]
     },
     "metadata": {
      "needs_background": "light"
     },
     "output_type": "display_data"
    },
    {
     "name": "stderr",
     "output_type": "stream",
     "text": [
      "C:\\Users\\Sumit\\anaconda3\\lib\\site-packages\\statsmodels\\regression\\linear_model.py:1406: RuntimeWarning: invalid value encountered in sqrt\n",
      "  return rho, np.sqrt(sigmasq)\n"
     ]
    },
    {
     "data": {
      "text/plain": [
       "<Figure size 1728x864 with 0 Axes>"
      ]
     },
     "metadata": {},
     "output_type": "display_data"
    },
    {
     "data": {
      "image/png": "[encoded data removed]",
      "text/plain": [
       "<Figure size 432x288 with 1 Axes>"
      ]
     },
     "metadata": {
      "needs_background": "light"
     },
     "output_type": "display_data"
    }
   ],
   "source": [
    "from statsmodels.graphics.tsaplots import plot_acf, plot_pacf\n",
    "\n",
    "# Plot ACF with confidence intervals\n",
    "plt.figure(figsize=(24,12))\n",
    "plot_acf(gdp_segr['epsilon_t'], lags=30, alpha=0.05)\n",
    "plt.xlabel('Lag')\n",
    "plt.ylabel('Autocorrelation')\n",
    "plt.title('Autocorrelation Function (ACF) with Confidence Intervals')\n",
    "plt.grid(True)\n",
    "plt.show()\n",
    "\n",
    "# Plot PACF with confidence intervals\n",
    "plt.figure(figsize=(24, 12))\n",
    "plot_pacf(gdp_segr['epsilon_t'], lags=30, alpha=0.05)\n",
    "plt.xlabel('Lag')\n",
    "plt.ylabel('Partial Autocorrelation')\n",
    "plt.title('Partial Autocorrelation Function (PACF) with Confidence Intervals')\n",
    "plt.grid(True)\n",
    "plt.show()"
   ]
  },
  {
   "cell_type": "code",
   "execution_count": 15,
   "metadata": {},
   "outputs": [
    {
     "name": "stderr",
     "output_type": "stream",
     "text": [
      "C:\\Users\\Sumit\\anaconda3\\lib\\site-packages\\statsmodels\\base\\model.py:548: HessianInversionWarning: Inverting hessian failed, no bse or cov_params available\n",
      "  'available', HessianInversionWarning)\n",
      "C:\\Users\\Sumit\\anaconda3\\lib\\site-packages\\statsmodels\\base\\model.py:568: ConvergenceWarning: Maximum Likelihood optimization failed to converge. Check mle_retvals\n",
      "  \"Check mle_retvals\", ConvergenceWarning)\n",
      "C:\\Users\\Sumit\\anaconda3\\lib\\site-packages\\statsmodels\\tsa\\tsatools.py:689: RuntimeWarning: overflow encountered in exp\n",
      "  newparams = ((1-np.exp(-params))/(1+np.exp(-params))).copy()\n",
      "C:\\Users\\Sumit\\anaconda3\\lib\\site-packages\\statsmodels\\tsa\\tsatools.py:689: RuntimeWarning: invalid value encountered in true_divide\n",
      "  newparams = ((1-np.exp(-params))/(1+np.exp(-params))).copy()\n",
      "C:\\Users\\Sumit\\anaconda3\\lib\\site-packages\\statsmodels\\tsa\\tsatools.py:690: RuntimeWarning: overflow encountered in exp\n",
      "  tmp = ((1-np.exp(-params))/(1+np.exp(-params))).copy()\n",
      "C:\\Users\\Sumit\\anaconda3\\lib\\site-packages\\statsmodels\\tsa\\tsatools.py:690: RuntimeWarning: invalid value encountered in true_divide\n",
      "  tmp = ((1-np.exp(-params))/(1+np.exp(-params))).copy()\n",
      "C:\\Users\\Sumit\\anaconda3\\lib\\site-packages\\statsmodels\\tsa\\tsatools.py:716: RuntimeWarning: divide by zero encountered in true_divide\n",
      "  invmacoefs = -np.log((1-macoefs)/(1+macoefs))\n",
      "C:\\Users\\Sumit\\anaconda3\\lib\\site-packages\\statsmodels\\tsa\\kalmanf\\kalmanfilter.py:224: RuntimeWarning: invalid value encountered in log\n",
      "  Z_mat.astype(complex), R_mat, T_mat)\n",
      "C:\\Users\\Sumit\\anaconda3\\lib\\site-packages\\statsmodels\\tsa\\kalmanf\\kalmanfilter.py:224: RuntimeWarning: invalid value encountered in true_divide\n",
      "  Z_mat.astype(complex), R_mat, T_mat)\n",
      "C:\\Users\\Sumit\\anaconda3\\lib\\site-packages\\statsmodels\\tools\\numdiff.py:243: RuntimeWarning: invalid value encountered in add\n",
      "  **kwargs)).imag/2./hess[i, j]\n",
      "C:\\Users\\Sumit\\anaconda3\\lib\\site-packages\\statsmodels\\tools\\numdiff.py:243: RuntimeWarning: invalid value encountered in multiply\n",
      "  **kwargs)).imag/2./hess[i, j]\n",
      "C:\\Users\\Sumit\\anaconda3\\lib\\site-packages\\statsmodels\\base\\model.py:548: HessianInversionWarning: Inverting hessian failed, no bse or cov_params available\n",
      "  'available', HessianInversionWarning)\n",
      "C:\\Users\\Sumit\\anaconda3\\lib\\site-packages\\statsmodels\\base\\model.py:568: ConvergenceWarning: Maximum Likelihood optimization failed to converge. Check mle_retvals\n",
      "  \"Check mle_retvals\", ConvergenceWarning)\n",
      "C:\\Users\\Sumit\\anaconda3\\lib\\site-packages\\statsmodels\\base\\model.py:548: HessianInversionWarning: Inverting hessian failed, no bse or cov_params available\n",
      "  'available', HessianInversionWarning)\n",
      "C:\\Users\\Sumit\\anaconda3\\lib\\site-packages\\statsmodels\\base\\model.py:568: ConvergenceWarning: Maximum Likelihood optimization failed to converge. Check mle_retvals\n",
      "  \"Check mle_retvals\", ConvergenceWarning)\n",
      "C:\\Users\\Sumit\\anaconda3\\lib\\site-packages\\statsmodels\\base\\model.py:548: HessianInversionWarning: Inverting hessian failed, no bse or cov_params available\n",
      "  'available', HessianInversionWarning)\n",
      "C:\\Users\\Sumit\\anaconda3\\lib\\site-packages\\statsmodels\\base\\model.py:548: HessianInversionWarning: Inverting hessian failed, no bse or cov_params available\n",
      "  'available', HessianInversionWarning)\n",
      "C:\\Users\\Sumit\\anaconda3\\lib\\site-packages\\statsmodels\\base\\model.py:548: HessianInversionWarning: Inverting hessian failed, no bse or cov_params available\n",
      "  'available', HessianInversionWarning)\n",
      "C:\\Users\\Sumit\\anaconda3\\lib\\site-packages\\statsmodels\\base\\model.py:548: HessianInversionWarning: Inverting hessian failed, no bse or cov_params available\n",
      "  'available', HessianInversionWarning)\n",
      "C:\\Users\\Sumit\\anaconda3\\lib\\site-packages\\statsmodels\\base\\model.py:548: HessianInversionWarning: Inverting hessian failed, no bse or cov_params available\n",
      "  'available', HessianInversionWarning)\n",
      "C:\\Users\\Sumit\\anaconda3\\lib\\site-packages\\statsmodels\\base\\model.py:548: HessianInversionWarning: Inverting hessian failed, no bse or cov_params available\n",
      "  'available', HessianInversionWarning)\n",
      "C:\\Users\\Sumit\\anaconda3\\lib\\site-packages\\statsmodels\\base\\model.py:568: ConvergenceWarning: Maximum Likelihood optimization failed to converge. Check mle_retvals\n",
      "  \"Check mle_retvals\", ConvergenceWarning)\n",
      "C:\\Users\\Sumit\\anaconda3\\lib\\site-packages\\statsmodels\\base\\model.py:548: HessianInversionWarning: Inverting hessian failed, no bse or cov_params available\n",
      "  'available', HessianInversionWarning)\n",
      "C:\\Users\\Sumit\\anaconda3\\lib\\site-packages\\statsmodels\\base\\model.py:548: HessianInversionWarning: Inverting hessian failed, no bse or cov_params available\n",
      "  'available', HessianInversionWarning)\n",
      "C:\\Users\\Sumit\\anaconda3\\lib\\site-packages\\statsmodels\\base\\model.py:548: HessianInversionWarning: Inverting hessian failed, no bse or cov_params available\n",
      "  'available', HessianInversionWarning)\n",
      "C:\\Users\\Sumit\\anaconda3\\lib\\site-packages\\statsmodels\\base\\model.py:568: ConvergenceWarning: Maximum Likelihood optimization failed to converge. Check mle_retvals\n",
      "  \"Check mle_retvals\", ConvergenceWarning)\n",
      "C:\\Users\\Sumit\\anaconda3\\lib\\site-packages\\statsmodels\\base\\model.py:548: HessianInversionWarning: Inverting hessian failed, no bse or cov_params available\n",
      "  'available', HessianInversionWarning)\n",
      "C:\\Users\\Sumit\\anaconda3\\lib\\site-packages\\statsmodels\\base\\model.py:568: ConvergenceWarning: Maximum Likelihood optimization failed to converge. Check mle_retvals\n",
      "  \"Check mle_retvals\", ConvergenceWarning)\n",
      "C:\\Users\\Sumit\\anaconda3\\lib\\site-packages\\statsmodels\\base\\model.py:548: HessianInversionWarning: Inverting hessian failed, no bse or cov_params available\n",
      "  'available', HessianInversionWarning)\n",
      "C:\\Users\\Sumit\\anaconda3\\lib\\site-packages\\statsmodels\\base\\model.py:548: HessianInversionWarning: Inverting hessian failed, no bse or cov_params available\n",
      "  'available', HessianInversionWarning)\n",
      "C:\\Users\\Sumit\\anaconda3\\lib\\site-packages\\statsmodels\\base\\model.py:548: HessianInversionWarning: Inverting hessian failed, no bse or cov_params available\n",
      "  'available', HessianInversionWarning)\n"
     ]
    },
    {
     "name": "stdout",
     "output_type": "stream",
     "text": [
      "            0           1           2           3           4           5   6  \\\n",
      "0 -355.522836 -356.771449 -371.682840 -371.712694 -368.802500         NaN NaN   \n",
      "1 -354.110424 -353.021353         NaN         NaN         NaN         NaN NaN   \n",
      "2 -359.262737 -379.124739         NaN         NaN         NaN         NaN NaN   \n",
      "3 -360.056092 -375.989212 -372.161286         NaN         NaN         NaN NaN   \n",
      "4 -359.623196 -373.179929 -369.948013         NaN         NaN         NaN NaN   \n",
      "5 -357.469495 -370.002188 -366.419601         NaN         NaN         NaN NaN   \n",
      "6 -356.344605 -367.729413 -364.081052 -362.197919 -358.378166         NaN NaN   \n",
      "7 -353.006779 -364.516314 -360.881910 -359.615191 -355.212425         NaN NaN   \n",
      "8 -351.673988 -363.582860 -358.572193 -353.430677 -351.740328 -351.822401 NaN   \n",
      "9 -355.734458 -361.263524 -357.318885 -355.295494         NaN         NaN NaN   \n",
      "\n",
      "            7          8           9  \n",
      "0 -371.712282 -365.68485 -366.261992  \n",
      "1         NaN        NaN         NaN  \n",
      "2         NaN        NaN         NaN  \n",
      "3         NaN        NaN         NaN  \n",
      "4         NaN        NaN         NaN  \n",
      "5         NaN        NaN         NaN  \n",
      "6         NaN        NaN         NaN  \n",
      "7         NaN        NaN         NaN  \n",
      "8         NaN        NaN         NaN  \n",
      "9         NaN        NaN         NaN  \n"
     ]
    }
   ],
   "source": [
    "\n",
    "# Initialize BIC matrix\n",
    "p_values = range(10)\n",
    "q_values = range(10)\n",
    "bic_matrix = [[0 for _ in range(10)] for _ in range(10)]\n",
    "\n",
    "# Iterate through different combinations of p and q\n",
    "for p in p_values:\n",
    "    for q in q_values:\n",
    "        try:\n",
    "            # Estimate ARMA(p,q) model\n",
    "            arma_model = sm.tsa.ARMA(gdp_segr['epsilon_t'], order=(p, q))\n",
    "            arma_result = arma_model.fit()\n",
    "\n",
    "            # Compute BIC\n",
    "            bic_value = arma_result.bic\n",
    "\n",
    "            # Store BIC in the matrix\n",
    "            bic_matrix[p][q] = bic_value\n",
    "        except:\n",
    "            # In case of convergence issues, store AIC as None\n",
    "            bic_matrix[p][q] = None\n",
    "\n",
    "# Convert the matrix to a DataFrame for better visualization\n",
    "bic_df = pd.DataFrame(bic_matrix, index=p_values, columns=q_values)\n",
    "print(bic_df)"
   ]
  },
  {
   "cell_type": "code",
   "execution_count": 16,
   "metadata": {},
   "outputs": [
    {
     "data": {
      "text/html": [
       "<div>\n",
       "<style scoped>\n",
       "    .dataframe tbody tr th:only-of-type {\n",
       "        vertical-align: middle;\n",
       "    }\n",
       "\n",
       "    .dataframe tbody tr th {\n",
       "        vertical-align: top;\n",
       "    }\n",
       "\n",
       "    .dataframe thead th {\n",
       "        text-align: right;\n",
       "    }\n",
       "</style>\n",
       "<table border=\"1\" class=\"dataframe\">\n",
       "  <thead>\n",
       "    <tr style=\"text-align: right;\">\n",
       "      <th></th>\n",
       "      <th>0</th>\n",
       "      <th>1</th>\n",
       "      <th>2</th>\n",
       "      <th>3</th>\n",
       "      <th>4</th>\n",
       "      <th>5</th>\n",
       "      <th>6</th>\n",
       "      <th>7</th>\n",
       "      <th>8</th>\n",
       "      <th>9</th>\n",
       "    </tr>\n",
       "  </thead>\n",
       "  <tbody>\n",
       "    <tr>\n",
       "      <th>0</th>\n",
       "      <td>-355.522836</td>\n",
       "      <td>-356.771449</td>\n",
       "      <td>-371.682840</td>\n",
       "      <td>-371.712694</td>\n",
       "      <td>-368.802500</td>\n",
       "      <td>NaN</td>\n",
       "      <td>NaN</td>\n",
       "      <td>-371.712282</td>\n",
       "      <td>-365.68485</td>\n",
       "      <td>-366.261992</td>\n",
       "    </tr>\n",
       "    <tr>\n",
       "      <th>1</th>\n",
       "      <td>-354.110424</td>\n",
       "      <td>-353.021353</td>\n",
       "      <td>NaN</td>\n",
       "      <td>NaN</td>\n",
       "      <td>NaN</td>\n",
       "      <td>NaN</td>\n",
       "      <td>NaN</td>\n",
       "      <td>NaN</td>\n",
       "      <td>NaN</td>\n",
       "      <td>NaN</td>\n",
       "    </tr>\n",
       "    <tr>\n",
       "      <th>2</th>\n",
       "      <td>-359.262737</td>\n",
       "      <td>-379.124739</td>\n",
       "      <td>NaN</td>\n",
       "      <td>NaN</td>\n",
       "      <td>NaN</td>\n",
       "      <td>NaN</td>\n",
       "      <td>NaN</td>\n",
       "      <td>NaN</td>\n",
       "      <td>NaN</td>\n",
       "      <td>NaN</td>\n",
       "    </tr>\n",
       "    <tr>\n",
       "      <th>3</th>\n",
       "      <td>-360.056092</td>\n",
       "      <td>-375.989212</td>\n",
       "      <td>-372.161286</td>\n",
       "      <td>NaN</td>\n",
       "      <td>NaN</td>\n",
       "      <td>NaN</td>\n",
       "      <td>NaN</td>\n",
       "      <td>NaN</td>\n",
       "      <td>NaN</td>\n",
       "      <td>NaN</td>\n",
       "    </tr>\n",
       "    <tr>\n",
       "      <th>4</th>\n",
       "      <td>-359.623196</td>\n",
       "      <td>-373.179929</td>\n",
       "      <td>-369.948013</td>\n",
       "      <td>NaN</td>\n",
       "      <td>NaN</td>\n",
       "      <td>NaN</td>\n",
       "      <td>NaN</td>\n",
       "      <td>NaN</td>\n",
       "      <td>NaN</td>\n",
       "      <td>NaN</td>\n",
       "    </tr>\n",
       "    <tr>\n",
       "      <th>5</th>\n",
       "      <td>-357.469495</td>\n",
       "      <td>-370.002188</td>\n",
       "      <td>-366.419601</td>\n",
       "      <td>NaN</td>\n",
       "      <td>NaN</td>\n",
       "      <td>NaN</td>\n",
       "      <td>NaN</td>\n",
       "      <td>NaN</td>\n",
       "      <td>NaN</td>\n",
       "      <td>NaN</td>\n",
       "    </tr>\n",
       "    <tr>\n",
       "      <th>6</th>\n",
       "      <td>-356.344605</td>\n",
       "      <td>-367.729413</td>\n",
       "      <td>-364.081052</td>\n",
       "      <td>-362.197919</td>\n",
       "      <td>-358.378166</td>\n",
       "      <td>NaN</td>\n",
       "      <td>NaN</td>\n",
       "      <td>NaN</td>\n",
       "      <td>NaN</td>\n",
       "      <td>NaN</td>\n",
       "    </tr>\n",
       "    <tr>\n",
       "      <th>7</th>\n",
       "      <td>-353.006779</td>\n",
       "      <td>-364.516314</td>\n",
       "      <td>-360.881910</td>\n",
       "      <td>-359.615191</td>\n",
       "      <td>-355.212425</td>\n",
       "      <td>NaN</td>\n",
       "      <td>NaN</td>\n",
       "      <td>NaN</td>\n",
       "      <td>NaN</td>\n",
       "      <td>NaN</td>\n",
       "    </tr>\n",
       "    <tr>\n",
       "      <th>8</th>\n",
       "      <td>-351.673988</td>\n",
       "      <td>-363.582860</td>\n",
       "      <td>-358.572193</td>\n",
       "      <td>-353.430677</td>\n",
       "      <td>-351.740328</td>\n",
       "      <td>-351.822401</td>\n",
       "      <td>NaN</td>\n",
       "      <td>NaN</td>\n",
       "      <td>NaN</td>\n",
       "      <td>NaN</td>\n",
       "    </tr>\n",
       "    <tr>\n",
       "      <th>9</th>\n",
       "      <td>-355.734458</td>\n",
       "      <td>-361.263524</td>\n",
       "      <td>-357.318885</td>\n",
       "      <td>-355.295494</td>\n",
       "      <td>NaN</td>\n",
       "      <td>NaN</td>\n",
       "      <td>NaN</td>\n",
       "      <td>NaN</td>\n",
       "      <td>NaN</td>\n",
       "      <td>NaN</td>\n",
       "    </tr>\n",
       "  </tbody>\n",
       "</table>\n",
       "</div>"
      ],
      "text/plain": [
       "            0           1           2           3           4           5   6  \\\n",
       "0 -355.522836 -356.771449 -371.682840 -371.712694 -368.802500         NaN NaN   \n",
       "1 -354.110424 -353.021353         NaN         NaN         NaN         NaN NaN   \n",
       "2 -359.262737 -379.124739         NaN         NaN         NaN         NaN NaN   \n",
       "3 -360.056092 -375.989212 -372.161286         NaN         NaN         NaN NaN   \n",
       "4 -359.623196 -373.179929 -369.948013         NaN         NaN         NaN NaN   \n",
       "5 -357.469495 -370.002188 -366.419601         NaN         NaN         NaN NaN   \n",
       "6 -356.344605 -367.729413 -364.081052 -362.197919 -358.378166         NaN NaN   \n",
       "7 -353.006779 -364.516314 -360.881910 -359.615191 -355.212425         NaN NaN   \n",
       "8 -351.673988 -363.582860 -358.572193 -353.430677 -351.740328 -351.822401 NaN   \n",
       "9 -355.734458 -361.263524 -357.318885 -355.295494         NaN         NaN NaN   \n",
       "\n",
       "            7          8           9  \n",
       "0 -371.712282 -365.68485 -366.261992  \n",
       "1         NaN        NaN         NaN  \n",
       "2         NaN        NaN         NaN  \n",
       "3         NaN        NaN         NaN  \n",
       "4         NaN        NaN         NaN  \n",
       "5         NaN        NaN         NaN  \n",
       "6         NaN        NaN         NaN  \n",
       "7         NaN        NaN         NaN  \n",
       "8         NaN        NaN         NaN  \n",
       "9         NaN        NaN         NaN  "
      ]
     },
     "execution_count": 16,
     "metadata": {},
     "output_type": "execute_result"
    }
   ],
   "source": [
    "bic_df # model selection will be ARMA(2,1)"
   ]
  },
  {
   "cell_type": "code",
   "execution_count": 17,
   "metadata": {},
   "outputs": [
    {
     "data": {
      "text/html": [
       "<div>\n",
       "<style scoped>\n",
       "    .dataframe tbody tr th:only-of-type {\n",
       "        vertical-align: middle;\n",
       "    }\n",
       "\n",
       "    .dataframe tbody tr th {\n",
       "        vertical-align: top;\n",
       "    }\n",
       "\n",
       "    .dataframe thead th {\n",
       "        text-align: right;\n",
       "    }\n",
       "</style>\n",
       "<table border=\"1\" class=\"dataframe\">\n",
       "  <thead>\n",
       "    <tr style=\"text-align: right;\">\n",
       "      <th></th>\n",
       "      <th>YEARS</th>\n",
       "    </tr>\n",
       "  </thead>\n",
       "  <tbody>\n",
       "    <tr>\n",
       "      <th>0</th>\n",
       "      <td>1960</td>\n",
       "    </tr>\n",
       "    <tr>\n",
       "      <th>1</th>\n",
       "      <td>1961</td>\n",
       "    </tr>\n",
       "    <tr>\n",
       "      <th>2</th>\n",
       "      <td>1962</td>\n",
       "    </tr>\n",
       "    <tr>\n",
       "      <th>3</th>\n",
       "      <td>1963</td>\n",
       "    </tr>\n",
       "    <tr>\n",
       "      <th>4</th>\n",
       "      <td>1964</td>\n",
       "    </tr>\n",
       "    <tr>\n",
       "      <th>...</th>\n",
       "      <td>...</td>\n",
       "    </tr>\n",
       "    <tr>\n",
       "      <th>58</th>\n",
       "      <td>2018</td>\n",
       "    </tr>\n",
       "    <tr>\n",
       "      <th>59</th>\n",
       "      <td>2019</td>\n",
       "    </tr>\n",
       "    <tr>\n",
       "      <th>60</th>\n",
       "      <td>2020</td>\n",
       "    </tr>\n",
       "    <tr>\n",
       "      <th>61</th>\n",
       "      <td>2021</td>\n",
       "    </tr>\n",
       "    <tr>\n",
       "      <th>62</th>\n",
       "      <td>2022</td>\n",
       "    </tr>\n",
       "  </tbody>\n",
       "</table>\n",
       "<p>63 rows × 1 columns</p>\n",
       "</div>"
      ],
      "text/plain": [
       "    YEARS\n",
       "0    1960\n",
       "1    1961\n",
       "2    1962\n",
       "3    1963\n",
       "4    1964\n",
       "..    ...\n",
       "58   2018\n",
       "59   2019\n",
       "60   2020\n",
       "61   2021\n",
       "62   2022\n",
       "\n",
       "[63 rows x 1 columns]"
      ]
     },
     "execution_count": 17,
     "metadata": {},
     "output_type": "execute_result"
    }
   ],
   "source": [
    "df_2=gdp_segr[['YEARS']]\n",
    "df_2"
   ]
  },
  {
   "cell_type": "code",
   "execution_count": 18,
   "metadata": {},
   "outputs": [
    {
     "name": "stderr",
     "output_type": "stream",
     "text": [
      "C:\\Users\\Sumit\\anaconda3\\lib\\site-packages\\statsmodels\\base\\model.py:548: HessianInversionWarning: Inverting hessian failed, no bse or cov_params available\n",
      "  'available', HessianInversionWarning)\n",
      "C:\\Users\\Sumit\\anaconda3\\lib\\site-packages\\statsmodels\\base\\model.py:568: ConvergenceWarning: Maximum Likelihood optimization failed to converge. Check mle_retvals\n",
      "  \"Check mle_retvals\", ConvergenceWarning)\n",
      "C:\\Users\\Sumit\\anaconda3\\lib\\site-packages\\statsmodels\\tsa\\tsatools.py:689: RuntimeWarning: overflow encountered in exp\n",
      "  newparams = ((1-np.exp(-params))/(1+np.exp(-params))).copy()\n",
      "C:\\Users\\Sumit\\anaconda3\\lib\\site-packages\\statsmodels\\tsa\\tsatools.py:689: RuntimeWarning: invalid value encountered in true_divide\n",
      "  newparams = ((1-np.exp(-params))/(1+np.exp(-params))).copy()\n",
      "C:\\Users\\Sumit\\anaconda3\\lib\\site-packages\\statsmodels\\tsa\\tsatools.py:690: RuntimeWarning: overflow encountered in exp\n",
      "  tmp = ((1-np.exp(-params))/(1+np.exp(-params))).copy()\n",
      "C:\\Users\\Sumit\\anaconda3\\lib\\site-packages\\statsmodels\\tsa\\tsatools.py:690: RuntimeWarning: invalid value encountered in true_divide\n",
      "  tmp = ((1-np.exp(-params))/(1+np.exp(-params))).copy()\n",
      "C:\\Users\\Sumit\\anaconda3\\lib\\site-packages\\statsmodels\\tsa\\tsatools.py:716: RuntimeWarning: divide by zero encountered in true_divide\n",
      "  invmacoefs = -np.log((1-macoefs)/(1+macoefs))\n",
      "C:\\Users\\Sumit\\anaconda3\\lib\\site-packages\\statsmodels\\tsa\\kalmanf\\kalmanfilter.py:224: RuntimeWarning: invalid value encountered in log\n",
      "  Z_mat.astype(complex), R_mat, T_mat)\n",
      "C:\\Users\\Sumit\\anaconda3\\lib\\site-packages\\statsmodels\\tsa\\kalmanf\\kalmanfilter.py:224: RuntimeWarning: invalid value encountered in true_divide\n",
      "  Z_mat.astype(complex), R_mat, T_mat)\n",
      "C:\\Users\\Sumit\\anaconda3\\lib\\site-packages\\statsmodels\\tools\\numdiff.py:243: RuntimeWarning: invalid value encountered in add\n",
      "  **kwargs)).imag/2./hess[i, j]\n",
      "C:\\Users\\Sumit\\anaconda3\\lib\\site-packages\\statsmodels\\tools\\numdiff.py:243: RuntimeWarning: invalid value encountered in multiply\n",
      "  **kwargs)).imag/2./hess[i, j]\n",
      "C:\\Users\\Sumit\\anaconda3\\lib\\site-packages\\statsmodels\\base\\model.py:548: HessianInversionWarning: Inverting hessian failed, no bse or cov_params available\n",
      "  'available', HessianInversionWarning)\n",
      "C:\\Users\\Sumit\\anaconda3\\lib\\site-packages\\statsmodels\\base\\model.py:568: ConvergenceWarning: Maximum Likelihood optimization failed to converge. Check mle_retvals\n",
      "  \"Check mle_retvals\", ConvergenceWarning)\n",
      "C:\\Users\\Sumit\\anaconda3\\lib\\site-packages\\statsmodels\\base\\model.py:548: HessianInversionWarning: Inverting hessian failed, no bse or cov_params available\n",
      "  'available', HessianInversionWarning)\n",
      "C:\\Users\\Sumit\\anaconda3\\lib\\site-packages\\statsmodels\\base\\model.py:568: ConvergenceWarning: Maximum Likelihood optimization failed to converge. Check mle_retvals\n",
      "  \"Check mle_retvals\", ConvergenceWarning)\n",
      "C:\\Users\\Sumit\\anaconda3\\lib\\site-packages\\statsmodels\\base\\model.py:548: HessianInversionWarning: Inverting hessian failed, no bse or cov_params available\n",
      "  'available', HessianInversionWarning)\n",
      "C:\\Users\\Sumit\\anaconda3\\lib\\site-packages\\statsmodels\\base\\model.py:548: HessianInversionWarning: Inverting hessian failed, no bse or cov_params available\n",
      "  'available', HessianInversionWarning)\n",
      "C:\\Users\\Sumit\\anaconda3\\lib\\site-packages\\statsmodels\\base\\model.py:548: HessianInversionWarning: Inverting hessian failed, no bse or cov_params available\n",
      "  'available', HessianInversionWarning)\n",
      "C:\\Users\\Sumit\\anaconda3\\lib\\site-packages\\statsmodels\\base\\model.py:548: HessianInversionWarning: Inverting hessian failed, no bse or cov_params available\n",
      "  'available', HessianInversionWarning)\n",
      "C:\\Users\\Sumit\\anaconda3\\lib\\site-packages\\statsmodels\\base\\model.py:548: HessianInversionWarning: Inverting hessian failed, no bse or cov_params available\n",
      "  'available', HessianInversionWarning)\n",
      "C:\\Users\\Sumit\\anaconda3\\lib\\site-packages\\statsmodels\\base\\model.py:548: HessianInversionWarning: Inverting hessian failed, no bse or cov_params available\n",
      "  'available', HessianInversionWarning)\n",
      "C:\\Users\\Sumit\\anaconda3\\lib\\site-packages\\statsmodels\\base\\model.py:568: ConvergenceWarning: Maximum Likelihood optimization failed to converge. Check mle_retvals\n",
      "  \"Check mle_retvals\", ConvergenceWarning)\n",
      "C:\\Users\\Sumit\\anaconda3\\lib\\site-packages\\statsmodels\\base\\model.py:548: HessianInversionWarning: Inverting hessian failed, no bse or cov_params available\n",
      "  'available', HessianInversionWarning)\n",
      "C:\\Users\\Sumit\\anaconda3\\lib\\site-packages\\statsmodels\\base\\model.py:548: HessianInversionWarning: Inverting hessian failed, no bse or cov_params available\n",
      "  'available', HessianInversionWarning)\n",
      "C:\\Users\\Sumit\\anaconda3\\lib\\site-packages\\statsmodels\\base\\model.py:548: HessianInversionWarning: Inverting hessian failed, no bse or cov_params available\n",
      "  'available', HessianInversionWarning)\n",
      "C:\\Users\\Sumit\\anaconda3\\lib\\site-packages\\statsmodels\\base\\model.py:568: ConvergenceWarning: Maximum Likelihood optimization failed to converge. Check mle_retvals\n",
      "  \"Check mle_retvals\", ConvergenceWarning)\n",
      "C:\\Users\\Sumit\\anaconda3\\lib\\site-packages\\statsmodels\\base\\model.py:548: HessianInversionWarning: Inverting hessian failed, no bse or cov_params available\n",
      "  'available', HessianInversionWarning)\n",
      "C:\\Users\\Sumit\\anaconda3\\lib\\site-packages\\statsmodels\\base\\model.py:568: ConvergenceWarning: Maximum Likelihood optimization failed to converge. Check mle_retvals\n",
      "  \"Check mle_retvals\", ConvergenceWarning)\n",
      "C:\\Users\\Sumit\\anaconda3\\lib\\site-packages\\statsmodels\\base\\model.py:548: HessianInversionWarning: Inverting hessian failed, no bse or cov_params available\n",
      "  'available', HessianInversionWarning)\n",
      "C:\\Users\\Sumit\\anaconda3\\lib\\site-packages\\statsmodels\\base\\model.py:548: HessianInversionWarning: Inverting hessian failed, no bse or cov_params available\n",
      "  'available', HessianInversionWarning)\n",
      "C:\\Users\\Sumit\\anaconda3\\lib\\site-packages\\statsmodels\\base\\model.py:548: HessianInversionWarning: Inverting hessian failed, no bse or cov_params available\n",
      "  'available', HessianInversionWarning)\n"
     ]
    },
    {
     "name": "stdout",
     "output_type": "stream",
     "text": [
      "            0           1           2           3           4           5  \\\n",
      "0 -359.809105 -363.200853 -380.255379 -382.428368 -381.661308         NaN   \n",
      "1 -360.539828 -361.593892         inf         inf         inf         inf   \n",
      "2 -367.835276 -389.840413         inf         inf         inf         inf   \n",
      "3 -370.771766 -388.848020 -387.163229         inf         inf         inf   \n",
      "4 -372.482005 -388.181872 -387.093091         inf         inf         inf   \n",
      "5 -372.471438 -387.147266 -385.707813         inf         inf         inf   \n",
      "6 -373.489683 -387.017626 -385.512399 -385.772401 -384.095782         inf   \n",
      "7 -372.294992 -385.947661 -384.456392 -385.332808 -383.073177         inf   \n",
      "8 -373.105336 -387.157342 -384.289810 -381.291428 -381.744214 -383.969422   \n",
      "9 -379.308940 -386.981140 -385.179636 -385.299380         inf         inf   \n",
      "\n",
      "     6           7           8           9  \n",
      "0  NaN -391.000495 -387.116198 -389.836474  \n",
      "1  inf         inf         inf         inf  \n",
      "2  inf         inf         inf         inf  \n",
      "3  inf         inf         inf         inf  \n",
      "4  inf         inf         inf         inf  \n",
      "5  inf         inf         inf         inf  \n",
      "6  inf         inf         inf         inf  \n",
      "7  inf         inf         inf         inf  \n",
      "8  inf         inf         inf         inf  \n",
      "9  inf         inf         inf         inf  \n"
     ]
    }
   ],
   "source": [
    "\n",
    "# Create a 10x10 matrix to store the AIC values for different p and q combinations\n",
    "p_values = range(10)\n",
    "q_values = range(10)\n",
    "aic_matrix = np.zeros((len(p_values), len(q_values)))\n",
    "\n",
    "# Loop over different p and q values to estimate ARMA(p, q) models and compute AIC\n",
    "for i, p in enumerate(p_values):\n",
    "    for j, q in enumerate(q_values):\n",
    "        if p == 0 and q == 0:\n",
    "            # ARMA(0, 0) is just a simple mean model\n",
    "            model = sm.tsa.ARMA(gdp_segr['epsilon_t'], order=(0, 0))\n",
    "        else:\n",
    "            model = sm.tsa.ARMA(gdp_segr['epsilon_t'], order=(p, q))\n",
    "        \n",
    "        # Fit the model\n",
    "        try:\n",
    "            results = model.fit()\n",
    "            aic_matrix[i, j] = results.aic\n",
    "        except:\n",
    "            # In case of an exception (e.g., non-invertible covariance matrix), set AIC to a large value\n",
    "            aic_matrix[i, j] = np.inf\n",
    "\n",
    "# Convert the AIC matrix into a DataFrame for better visualization\n",
    "aic_df = pd.DataFrame(aic_matrix, index=p_values, columns=q_values)\n",
    "\n",
    "print(aic_df)"
   ]
  },
  {
   "cell_type": "code",
   "execution_count": 19,
   "metadata": {},
   "outputs": [
    {
     "name": "stdout",
     "output_type": "stream",
     "text": [
      "ADF Statistic: -4.194677858895401\n",
      "p-value: 0.0006727025841279763\n",
      "Critical Values: {'1%': -3.5656240522121956, '5%': -2.920142229157715, '10%': -2.598014675124952}\n"
     ]
    }
   ],
   "source": [
    "result = sm.tsa.adfuller(gdp_segr['epsilon_t'])\n",
    "\n",
    "print(\"ADF Statistic:\", result[0])\n",
    "print(\"p-value:\", result[1])\n",
    "print(\"Critical Values:\", result[4])\n"
   ]
  },
  {
   "cell_type": "code",
   "execution_count": 20,
   "metadata": {},
   "outputs": [
    {
     "name": "stdout",
     "output_type": "stream",
     "text": [
      "<statsmodels.tsa.arima_model.ARMAResultsWrapper object at 0x000001BADC40D488>\n"
     ]
    }
   ],
   "source": [
    "model = sm.tsa.ARMA(gdp_segr['epsilon_t'], order=(2, 1))\n",
    "results=model.fit()\n",
    "print(results)"
   ]
  },
  {
   "cell_type": "markdown",
   "metadata": {},
   "source": [
    "## Fitting the ARMA model"
   ]
  },
  {
   "cell_type": "code",
   "execution_count": 22,
   "metadata": {},
   "outputs": [],
   "source": [
    "\n",
    "# Fit the ARMA(2,1) model to the time series data\n",
    "p, q = 2, 1\n",
    "arma_model = sm.tsa.ARMA(gdp_segr['epsilon_t'], order=(p, q))\n",
    "arma_result = arma_model.fit()\n"
   ]
  },
  {
   "cell_type": "code",
   "execution_count": 23,
   "metadata": {},
   "outputs": [
    {
     "name": "stdout",
     "output_type": "stream",
     "text": [
      "                              ARMA Model Results                              \n",
      "==============================================================================\n",
      "Dep. Variable:              epsilon_t   No. Observations:                   63\n",
      "Model:                     ARMA(2, 1)   Log Likelihood                 199.920\n",
      "Method:                       css-mle   S.D. of innovations              0.010\n",
      "Date:                Sat, 05 Aug 2023   AIC                           -389.840\n",
      "Time:                        09:42:21   BIC                           -379.125\n",
      "Sample:                             0   HQIC                          -385.626\n",
      "                                                                              \n",
      "===================================================================================\n",
      "                      coef    std err          z      P>|z|      [0.025      0.975]\n",
      "-----------------------------------------------------------------------------------\n",
      "const            2.917e-05   9.67e-05      0.302      0.763      -0.000       0.000\n",
      "ar.L1.epsilon_t     0.8550      0.103      8.263      0.000       0.652       1.058\n",
      "ar.L2.epsilon_t    -0.5508      0.103     -5.365      0.000      -0.752      -0.350\n",
      "ma.L1.epsilon_t    -0.9999      0.042    -24.086      0.000      -1.081      -0.919\n",
      "                                    Roots                                    \n",
      "=============================================================================\n",
      "                  Real          Imaginary           Modulus         Frequency\n",
      "-----------------------------------------------------------------------------\n",
      "AR.1            0.7761           -1.1014j            1.3474           -0.1523\n",
      "AR.2            0.7761           +1.1014j            1.3474            0.1523\n",
      "MA.1            1.0001           +0.0000j            1.0001            0.0000\n",
      "-----------------------------------------------------------------------------\n"
     ]
    }
   ],
   "source": [
    "print(arma_result.summary())"
   ]
  },
  {
   "cell_type": "code",
   "execution_count": 46,
   "metadata": {},
   "outputs": [
    {
     "data": {
      "text/html": [
       "<div>\n",
       "<style scoped>\n",
       "    .dataframe tbody tr th:only-of-type {\n",
       "        vertical-align: middle;\n",
       "    }\n",
       "\n",
       "    .dataframe tbody tr th {\n",
       "        vertical-align: top;\n",
       "    }\n",
       "\n",
       "    .dataframe thead th {\n",
       "        text-align: right;\n",
       "    }\n",
       "</style>\n",
       "<table border=\"1\" class=\"dataframe\">\n",
       "  <thead>\n",
       "    <tr style=\"text-align: right;\">\n",
       "      <th></th>\n",
       "      <th>0</th>\n",
       "      <th>year</th>\n",
       "    </tr>\n",
       "  </thead>\n",
       "  <tbody>\n",
       "    <tr>\n",
       "      <th>63</th>\n",
       "      <td>0.004259</td>\n",
       "      <td>2023</td>\n",
       "    </tr>\n",
       "    <tr>\n",
       "      <th>64</th>\n",
       "      <td>0.000025</td>\n",
       "      <td>2024</td>\n",
       "    </tr>\n",
       "    <tr>\n",
       "      <th>65</th>\n",
       "      <td>-0.002304</td>\n",
       "      <td>2025</td>\n",
       "    </tr>\n",
       "    <tr>\n",
       "      <th>66</th>\n",
       "      <td>-0.001964</td>\n",
       "      <td>2026</td>\n",
       "    </tr>\n",
       "    <tr>\n",
       "      <th>67</th>\n",
       "      <td>-0.000389</td>\n",
       "      <td>2027</td>\n",
       "    </tr>\n",
       "    <tr>\n",
       "      <th>68</th>\n",
       "      <td>0.000769</td>\n",
       "      <td>2028</td>\n",
       "    </tr>\n",
       "  </tbody>\n",
       "</table>\n",
       "</div>"
      ],
      "text/plain": [
       "           0  year\n",
       "63  0.004259  2023\n",
       "64  0.000025  2024\n",
       "65 -0.002304  2025\n",
       "66 -0.001964  2026\n",
       "67 -0.000389  2027\n",
       "68  0.000769  2028"
      ]
     },
     "execution_count": 46,
     "metadata": {},
     "output_type": "execute_result"
    }
   ],
   "source": [
    "start_index = len(gdp_segr['epsilon_t'])  # Replace with the appropriate starting index\n",
    "end_index = len(gdp_segr['epsilon_t']) + 5\n",
    "# Replace 'start_index' and 'end_index' with the appropriate indices for your prediction range\n",
    "predicted_values = arma_result.predict(start=start_index, end=end_index)\n",
    "predicted_values= pd.DataFrame(predicted_values)\n",
    "predicted_values['year']=[2023,2024,2025,2026,2027,2028]\n",
    "predicted_values"
   ]
  },
  {
   "cell_type": "code",
   "execution_count": 47,
   "metadata": {},
   "outputs": [
    {
     "data": {
      "image/png": "[encoded data removed]",
      "text/plain": [
       "<Figure size 720x432 with 1 Axes>"
      ]
     },
     "metadata": {
      "needs_background": "light"
     },
     "output_type": "display_data"
    }
   ],
   "source": [
    "plt.figure(figsize=(10, 6))\n",
    "plt.plot(gdp_segr['YEARS'],gdp_segr['epsilon_t'], marker='o', linestyle='-', color='b', label='Residuals {epsilon_t}')\n",
    "plt.plot(predicted_values['year'],predicted_values[0], label='Predicted Data',marker='o', color='red')\n",
    "plt.legend()\n",
    "plt.title('ARMA(2,1) Model Prediction')\n",
    "plt.xlabel('Time')\n",
    "plt.ylabel('Cyclical Component')\n",
    "plt.show()"
   ]
  },
  {
   "cell_type": "code",
   "execution_count": null,
   "metadata": {},
   "outputs": [],
   "source": []
  }
 ],
 "metadata": {
  "kernelspec": {
   "display_name": "Python 3",
   "language": "python",
   "name": "python3"
  },
  "language_info": {
   "codemirror_mode": {
    "name": "ipython",
    "version": 3
   },
   "file_extension": ".py",
   "mimetype": "text/x-python",
   "name": "python",
   "nbconvert_exporter": "python",
   "pygments_lexer": "ipython3",
   "version": "3.7.6"
  }
 },
 "nbformat": 4,
 "nbformat_minor": 4
}
